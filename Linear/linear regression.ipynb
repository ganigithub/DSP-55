{
 "cells": [
  {
   "cell_type": "markdown",
   "id": "ef461220",
   "metadata": {},
   "source": [
    "### Linear regression\n",
    "#assumptions of LR\n",
    "\n",
    "1. Data should be linear\n",
    "2. No autocorrelations\n",
    "3. data should be Homoskedastic as much as possible(less spread in data)\n",
    "4. No multi-colinearity"
   ]
  },
  {
   "cell_type": "code",
   "execution_count": 2,
   "id": "12e92805",
   "metadata": {},
   "outputs": [],
   "source": [
    "import numpy as np\n",
    "import pandas as pd\n",
    "import matplotlib.pyplot as plt\n",
    "%matplotlib inline\n",
    "\n",
    "#linear regression\n",
    "from sklearn.linear_model import LinearRegression"
   ]
  },
  {
   "cell_type": "code",
   "execution_count": 3,
   "id": "9e6b7a9b",
   "metadata": {},
   "outputs": [],
   "source": [
    "x = np.array([10, 20, 45, 50, 90, 150, 200])\n",
    "y = np.array([4, 10, 15, 40, 80, 100, 150 ])"
   ]
  },
  {
   "cell_type": "code",
   "execution_count": 4,
   "id": "fc58f2ed",
   "metadata": {},
   "outputs": [
    {
     "data": {
      "image/png": "[encoded data removed]",
      "text/plain": [
       "<Figure size 432x288 with 1 Axes>"
      ]
     },
     "metadata": {
      "needs_background": "light"
     },
     "output_type": "display_data"
    }
   ],
   "source": [
    "#plotting the raw values\n",
    "plt.scatter(x,y, c = 'red')\n",
    "plt.show()\n"
   ]
  },
  {
   "cell_type": "code",
   "execution_count": 5,
   "id": "bf6f1a11",
   "metadata": {},
   "outputs": [
    {
     "data": {
      "text/plain": [
       "(7,)"
      ]
     },
     "execution_count": 5,
     "metadata": {},
     "output_type": "execute_result"
    }
   ],
   "source": [
    "x.shape"
   ]
  },
  {
   "cell_type": "code",
   "execution_count": 6,
   "id": "c21cd377",
   "metadata": {},
   "outputs": [
    {
     "data": {
      "text/plain": [
       "array([[ 10],\n",
       "       [ 20],\n",
       "       [ 45],\n",
       "       [ 50],\n",
       "       [ 90],\n",
       "       [150],\n",
       "       [200]])"
      ]
     },
     "execution_count": 6,
     "metadata": {},
     "output_type": "execute_result"
    }
   ],
   "source": [
    "x = x.reshape(7,1)\n",
    "x"
   ]
  },
  {
   "cell_type": "code",
   "execution_count": 38,
   "id": "afe2763b",
   "metadata": {},
   "outputs": [
    {
     "data": {
      "text/plain": [
       "(7,)"
      ]
     },
     "execution_count": 38,
     "metadata": {},
     "output_type": "execute_result"
    }
   ],
   "source": [
    "y.shape"
   ]
  },
  {
   "cell_type": "markdown",
   "id": "5500183c",
   "metadata": {},
   "source": [
    "### Fitting data to linear model"
   ]
  },
  {
   "cell_type": "code",
   "execution_count": 16,
   "id": "6b8d443f",
   "metadata": {},
   "outputs": [],
   "source": [
    "lin_reg = LinearRegression()"
   ]
  },
  {
   "cell_type": "code",
   "execution_count": 17,
   "id": "990342ae",
   "metadata": {},
   "outputs": [
    {
     "data": {
      "text/plain": [
       "LinearRegression()"
      ]
     },
     "execution_count": 17,
     "metadata": {},
     "output_type": "execute_result"
    }
   ],
   "source": [
    "lin_reg.fit(x,y)"
   ]
  },
  {
   "cell_type": "code",
   "execution_count": 18,
   "id": "a3553d27",
   "metadata": {},
   "outputs": [
    {
     "name": "stdout",
     "output_type": "stream",
     "text": [
      "-4.5948132286461885\n",
      "[0.76312158]\n"
     ]
    }
   ],
   "source": [
    "intercept = lin_reg.intercept_   # c = Y intercept\n",
    "slope     = lin_reg.coef_        # m = slope\n",
    "\n",
    "print(intercept)\n",
    "print(slope)"
   ]
  },
  {
   "cell_type": "code",
   "execution_count": 19,
   "id": "53b66169",
   "metadata": {},
   "outputs": [
    {
     "data": {
      "text/plain": [
       "array([[  3.03640257],\n",
       "       [ 10.66761837],\n",
       "       [ 29.74565786],\n",
       "       [ 33.56126576],\n",
       "       [ 64.08612896],\n",
       "       [109.87342374],\n",
       "       [148.02950274]])"
      ]
     },
     "execution_count": 19,
     "metadata": {},
     "output_type": "execute_result"
    }
   ],
   "source": [
    "y_predicted = slope * x  + intercept  # y = m * x + C\n",
    "y_predicted"
   ]
  },
  {
   "cell_type": "code",
   "execution_count": 20,
   "id": "945943f2",
   "metadata": {},
   "outputs": [
    {
     "data": {
      "image/png": "[encoded data removed]",
      "text/plain": [
       "<Figure size 432x288 with 1 Axes>"
      ]
     },
     "metadata": {
      "needs_background": "light"
     },
     "output_type": "display_data"
    }
   ],
   "source": [
    "plt.scatter(x, y , c = 'red')\n",
    "plt.plot(x, y_predicted)\n",
    "plt.show()"
   ]
  },
  {
   "cell_type": "code",
   "execution_count": null,
   "id": "7c8c346b",
   "metadata": {},
   "outputs": [],
   "source": []
  },
  {
   "cell_type": "markdown",
   "id": "8e311b16",
   "metadata": {},
   "source": [
    "### Assessing the Liner Regresssion Model"
   ]
  },
  {
   "cell_type": "code",
   "execution_count": 21,
   "id": "7838a608",
   "metadata": {},
   "outputs": [],
   "source": [
    "from sklearn import metrics"
   ]
  },
  {
   "cell_type": "code",
   "execution_count": 22,
   "id": "b73167ed",
   "metadata": {},
   "outputs": [
    {
     "name": "stdout",
     "output_type": "stream",
     "text": [
      "Mean absolute Error     : 7.224771421773562\n",
      "Mean squared Error      : 87.84065803337751\n",
      "Root mean squared Error : 9.372334716247469\n",
      "R squared               : 0.9660247206192042\n"
     ]
    }
   ],
   "source": [
    "print('Mean absolute Error     :' , metrics.mean_absolute_error(y, y_predicted))         # mean of mod of errors\n",
    "print('Mean squared Error      :' , metrics.mean_squared_error(y, y_predicted))          # mean of squares of errors\n",
    "print('Root mean squared Error :' , np.sqrt(metrics.mean_squared_error(y, y_predicted))) # rmse\n",
    "\n",
    "print('R squared               :' , metrics.r2_score(y,y_predicted))                     # goodness of model"
   ]
  },
  {
   "cell_type": "code",
   "execution_count": null,
   "id": "c0a495aa",
   "metadata": {},
   "outputs": [],
   "source": []
  }
 ],
 "metadata": {
  "kernelspec": {
   "display_name": "Python 3",
   "language": "python",
   "name": "python3"
  },
  "language_info": {
   "codemirror_mode": {
    "name": "ipython",
    "version": 3
   },
   "file_extension": ".py",
   "mimetype": "text/x-python",
   "name": "python",
   "nbconvert_exporter": "python",
   "pygments_lexer": "ipython3",
   "version": "3.8.8"
  }
 },
 "nbformat": 4,
 "nbformat_minor": 5
}
