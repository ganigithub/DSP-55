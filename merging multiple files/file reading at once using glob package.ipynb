{
 "cells": [
  {
   "cell_type": "markdown",
   "id": "bb5c6434",
   "metadata": {},
   "source": [
    "We are going to concatenate multiple excel files in a particular folder using glob package"
   ]
  },
  {
   "cell_type": "code",
   "execution_count": 1,
   "id": "7c0bc9e5",
   "metadata": {},
   "outputs": [],
   "source": [
    "import pandas as pd\n",
    "import glob            #the glob module is used to retrieve files/pathnames matching a specified pattern."
   ]
  },
  {
   "cell_type": "code",
   "execution_count": 28,
   "id": "db70b8c1",
   "metadata": {},
   "outputs": [
    {
     "data": {
      "text/plain": [
       "['C:/Users/ganesh/Documents/Jupyter Files/im/merging multiple files\\\\copy_testing_flags.xlsx',\n",
       " 'C:/Users/ganesh/Documents/Jupyter Files/im/merging multiple files\\\\copy_testing_flags1.xlsx',\n",
       " 'C:/Users/ganesh/Documents/Jupyter Files/im/merging multiple files\\\\copy_testing_flags2.xlsx',\n",
       " 'C:/Users/ganesh/Documents/Jupyter Files/im/merging multiple files\\\\copy_testing_flags3.xlsx']"
      ]
     },
     "execution_count": 28,
     "metadata": {},
     "output_type": "execute_result"
    }
   ],
   "source": [
    "folder_path = 'C:/Users/ganesh/Documents/Jupyter Files/im/merging multiple files/c*' # c* means select all items starting from'c'\n",
    "folder_items = glob.glob(folder_path)\n",
    "folder_items"
   ]
  },
  {
   "cell_type": "code",
   "execution_count": 29,
   "id": "580d9432",
   "metadata": {},
   "outputs": [],
   "source": [
    "mother_df = pd.DataFrame()     #we create a mother_df which will be combination of all files"
   ]
  },
  {
   "cell_type": "code",
   "execution_count": 30,
   "id": "4b63e264",
   "metadata": {},
   "outputs": [
    {
     "name": "stdout",
     "output_type": "stream",
     "text": [
      "(588, 6)\n",
      "(1176, 6)\n",
      "(1764, 6)\n",
      "(2352, 6)\n"
     ]
    }
   ],
   "source": [
    "for files in folder_items:\n",
    "#     print(files)\n",
    "    \n",
    "    file_name = files.split('\\\\')[1]          # we split on basis of '\\\\' to get file name which is at 1st index\n",
    "#     print(file_name)\n",
    "\n",
    "    file_path = folder_path[:-2] + file_name  # now we add folderpath and filename to get the path of the files\n",
    "#     print(file_path)\n",
    "    \n",
    "    df = pd.read_excel(file_path)             # we create this df which saves each file\n",
    "    \n",
    "    mother_df = pd.concat([mother_df, df])    # we concatenate this df with mother df\n",
    "    \n",
    "    print(mother_df.shape)"
   ]
  },
  {
   "cell_type": "code",
   "execution_count": 26,
   "id": "fe9ac82b",
   "metadata": {},
   "outputs": [
    {
     "data": {
      "text/html": [
       "<div>\n",
       "<style scoped>\n",
       "    .dataframe tbody tr th:only-of-type {\n",
       "        vertical-align: middle;\n",
       "    }\n",
       "\n",
       "    .dataframe tbody tr th {\n",
       "        vertical-align: top;\n",
       "    }\n",
       "\n",
       "    .dataframe thead th {\n",
       "        text-align: right;\n",
       "    }\n",
       "</style>\n",
       "<table border=\"1\" class=\"dataframe\">\n",
       "  <thead>\n",
       "    <tr style=\"text-align: right;\">\n",
       "      <th></th>\n",
       "      <th>Tests</th>\n",
       "      <th>l_product</th>\n",
       "      <th>MaterialNumber</th>\n",
       "      <th>Copy_Testing_Flag</th>\n",
       "      <th>product_code</th>\n",
       "      <th>market</th>\n",
       "    </tr>\n",
       "  </thead>\n",
       "  <tbody>\n",
       "    <tr>\n",
       "      <th>0</th>\n",
       "      <td>DES</td>\n",
       "      <td>SP-CFTO-006324</td>\n",
       "      <td>200005541_SP-CFTO-006324_UNITED STATES</td>\n",
       "      <td>1</td>\n",
       "      <td>200005541</td>\n",
       "      <td>UNITED STATES</td>\n",
       "    </tr>\n",
       "    <tr>\n",
       "      <th>1</th>\n",
       "      <td>DES</td>\n",
       "      <td>SP-CFTO-006608</td>\n",
       "      <td>200000773_SP-CFTO-006608_South Africa</td>\n",
       "      <td>1</td>\n",
       "      <td>200000773</td>\n",
       "      <td>South Africa</td>\n",
       "    </tr>\n",
       "    <tr>\n",
       "      <th>2</th>\n",
       "      <td>DES</td>\n",
       "      <td>SP-CFTO-006314</td>\n",
       "      <td>200000844_SP-CFTO-006314_UNITED KINGDOM</td>\n",
       "      <td>2</td>\n",
       "      <td>200000844</td>\n",
       "      <td>UNITED KINGDOM</td>\n",
       "    </tr>\n",
       "    <tr>\n",
       "      <th>3</th>\n",
       "      <td>DES</td>\n",
       "      <td>SP-CFTO-016531</td>\n",
       "      <td>200000844_SP-CFTO-016531_NEWZEALAND</td>\n",
       "      <td>2</td>\n",
       "      <td>200000844</td>\n",
       "      <td>NEWZEALAND</td>\n",
       "    </tr>\n",
       "    <tr>\n",
       "      <th>4</th>\n",
       "      <td>DES</td>\n",
       "      <td>SP-CFTO-006422</td>\n",
       "      <td>200000844_SP-CFTO-006422_GERMANY</td>\n",
       "      <td>2</td>\n",
       "      <td>200000844</td>\n",
       "      <td>GERMANY</td>\n",
       "    </tr>\n",
       "    <tr>\n",
       "      <th>...</th>\n",
       "      <td>...</td>\n",
       "      <td>...</td>\n",
       "      <td>...</td>\n",
       "      <td>...</td>\n",
       "      <td>...</td>\n",
       "      <td>...</td>\n",
       "    </tr>\n",
       "    <tr>\n",
       "      <th>583</th>\n",
       "      <td>RSL2</td>\n",
       "      <td>SP-CFTO-004925</td>\n",
       "      <td>200013441_SP-CFTO-004925_BRAZIL</td>\n",
       "      <td>1</td>\n",
       "      <td>200013441</td>\n",
       "      <td>BRAZIL</td>\n",
       "    </tr>\n",
       "    <tr>\n",
       "      <th>584</th>\n",
       "      <td>RSL</td>\n",
       "      <td>SP-CFTO-004756</td>\n",
       "      <td>200013441_SP-CFTO-004756_USA</td>\n",
       "      <td>1</td>\n",
       "      <td>200013441</td>\n",
       "      <td>USA</td>\n",
       "    </tr>\n",
       "    <tr>\n",
       "      <th>585</th>\n",
       "      <td>RSL</td>\n",
       "      <td>SP-CFTO-004925</td>\n",
       "      <td>200013441_SP-CFTO-004925_BRAZIL</td>\n",
       "      <td>1</td>\n",
       "      <td>200013441</td>\n",
       "      <td>BRAZIL</td>\n",
       "    </tr>\n",
       "    <tr>\n",
       "      <th>586</th>\n",
       "      <td>UOD_TPW</td>\n",
       "      <td>SP-CFTO-004756</td>\n",
       "      <td>200013441_SP-CFTO-004756_USA</td>\n",
       "      <td>1</td>\n",
       "      <td>200013441</td>\n",
       "      <td>USA</td>\n",
       "    </tr>\n",
       "    <tr>\n",
       "      <th>587</th>\n",
       "      <td>Micro</td>\n",
       "      <td>SP-CFTO-004925</td>\n",
       "      <td>200013441_SP-CFTO-004925_BRAZIL</td>\n",
       "      <td>1</td>\n",
       "      <td>200013441</td>\n",
       "      <td>BRAZIL</td>\n",
       "    </tr>\n",
       "  </tbody>\n",
       "</table>\n",
       "<p>2352 rows × 6 columns</p>\n",
       "</div>"
      ],
      "text/plain": [
       "       Tests       l_product                           MaterialNumber  \\\n",
       "0        DES  SP-CFTO-006324   200005541_SP-CFTO-006324_UNITED STATES   \n",
       "1        DES  SP-CFTO-006608    200000773_SP-CFTO-006608_South Africa   \n",
       "2        DES  SP-CFTO-006314  200000844_SP-CFTO-006314_UNITED KINGDOM   \n",
       "3        DES  SP-CFTO-016531      200000844_SP-CFTO-016531_NEWZEALAND   \n",
       "4        DES  SP-CFTO-006422         200000844_SP-CFTO-006422_GERMANY   \n",
       "..       ...             ...                                      ...   \n",
       "583     RSL2  SP-CFTO-004925          200013441_SP-CFTO-004925_BRAZIL   \n",
       "584      RSL  SP-CFTO-004756             200013441_SP-CFTO-004756_USA   \n",
       "585      RSL  SP-CFTO-004925          200013441_SP-CFTO-004925_BRAZIL   \n",
       "586  UOD_TPW  SP-CFTO-004756             200013441_SP-CFTO-004756_USA   \n",
       "587    Micro  SP-CFTO-004925          200013441_SP-CFTO-004925_BRAZIL   \n",
       "\n",
       "     Copy_Testing_Flag  product_code          market  \n",
       "0                    1     200005541   UNITED STATES  \n",
       "1                    1     200000773    South Africa  \n",
       "2                    2     200000844  UNITED KINGDOM  \n",
       "3                    2     200000844      NEWZEALAND  \n",
       "4                    2     200000844         GERMANY  \n",
       "..                 ...           ...             ...  \n",
       "583                  1     200013441          BRAZIL  \n",
       "584                  1     200013441             USA  \n",
       "585                  1     200013441          BRAZIL  \n",
       "586                  1     200013441             USA  \n",
       "587                  1     200013441          BRAZIL  \n",
       "\n",
       "[2352 rows x 6 columns]"
      ]
     },
     "execution_count": 26,
     "metadata": {},
     "output_type": "execute_result"
    }
   ],
   "source": [
    "mother_df"
   ]
  },
  {
   "cell_type": "code",
   "execution_count": null,
   "id": "1e9f27f9",
   "metadata": {},
   "outputs": [],
   "source": []
  }
 ],
 "metadata": {
  "kernelspec": {
   "display_name": "Python 3",
   "language": "python",
   "name": "python3"
  },
  "language_info": {
   "codemirror_mode": {
    "name": "ipython",
    "version": 3
   },
   "file_extension": ".py",
   "mimetype": "text/x-python",
   "name": "python",
   "nbconvert_exporter": "python",
   "pygments_lexer": "ipython3",
   "version": "3.8.8"
  }
 },
 "nbformat": 4,
 "nbformat_minor": 5
}
